{
 "cells": [
  {
   "cell_type": "code",
   "execution_count": 3,
   "id": "27f0d4b0",
   "metadata": {},
   "outputs": [],
   "source": [
    "import streamlit as st\n",
    "import os\n",
    "\n",
    "from langchain_core.prompts import ChatPromptTemplate\n",
    "from langchain_core.output_parsers import StrOutputParser\n",
    "from langchain_community.llms import Ollama"
   ]
  },
  {
   "cell_type": "code",
   "execution_count": null,
   "id": "a358c14e",
   "metadata": {},
   "outputs": [],
   "source": [
    "from dotenv import load_dotenv\n",
    "\n",
    "load_dotenv()"
   ]
  },
  {
   "cell_type": "code",
   "execution_count": 4,
   "id": "b88c12ca",
   "metadata": {},
   "outputs": [],
   "source": [
    "os.environ['LANGCHAIN_TRACING_V2'] = os.getenv('LANGCHAIN_TRACING_V2')\n",
    "os.environ['LANGCHAIN_API_KEY'] = os.getenv(\"LANGCHAIN_API_KEY\")"
   ]
  },
  {
   "cell_type": "code",
   "execution_count": 6,
   "id": "173c4653",
   "metadata": {},
   "outputs": [],
   "source": [
    "prompt = ChatPromptTemplate.from_messages(\n",
    "        [\n",
    "            (\"system\", \"You are a helpful assistant. Please response to the user queries.\"),\n",
    "            (\"user\", \"Question: {question}\")\n",
    "        ]\n",
    ")"
   ]
  },
  {
   "cell_type": "code",
   "execution_count": null,
   "id": "c3139a0e",
   "metadata": {},
   "outputs": [],
   "source": [
    "## streamlit framework\n",
    "\n",
    "st.title(\"Langchain Demo with Gemma Model: \")\n",
    "input_text = st.text_input(\"What do you want to know about huhh: \")"
   ]
  },
  {
   "cell_type": "code",
   "execution_count": 13,
   "id": "1915ec58",
   "metadata": {},
   "outputs": [],
   "source": [
    "def take_array_sort(array):\n",
    "    array.sort()\n",
    "    return array\n",
    "\n",
    "def sum_up_array(array):\n",
    "    return sum(array)"
   ]
  },
  {
   "cell_type": "code",
   "execution_count": 16,
   "id": "c20d0e59",
   "metadata": {},
   "outputs": [
    {
     "ename": "TypeError",
     "evalue": "unsupported operand type(s) for |: 'function' and 'function'",
     "output_type": "error",
     "traceback": [
      "\u001b[1;31m---------------------------------------------------------------------------\u001b[0m",
      "\u001b[1;31mTypeError\u001b[0m                                 Traceback (most recent call last)",
      "Cell \u001b[1;32mIn[16], line 1\u001b[0m\n\u001b[1;32m----> 1\u001b[0m combined_func \u001b[38;5;241m=\u001b[39m take_array_sort\u001b[38;5;241m|\u001b[39msum_up_array\n\u001b[0;32m      2\u001b[0m combined_func([\u001b[38;5;241m45\u001b[39m, \u001b[38;5;241m2\u001b[39m, \u001b[38;5;241m3\u001b[39m])\n",
      "\u001b[1;31mTypeError\u001b[0m: unsupported operand type(s) for |: 'function' and 'function'"
     ]
    }
   ],
   "source": [
    "combined_func = take_array_sort|sum_up_array\n",
    "combined_func([45, 2, 3])"
   ]
  },
  {
   "cell_type": "code",
   "execution_count": null,
   "id": "0ffeadaa",
   "metadata": {},
   "outputs": [],
   "source": []
  }
 ],
 "metadata": {
  "kernelspec": {
   "display_name": "Python 3 (ipykernel)",
   "language": "python",
   "name": "python3"
  },
  "language_info": {
   "codemirror_mode": {
    "name": "ipython",
    "version": 3
   },
   "file_extension": ".py",
   "mimetype": "text/x-python",
   "name": "python",
   "nbconvert_exporter": "python",
   "pygments_lexer": "ipython3",
   "version": "3.11.5"
  }
 },
 "nbformat": 4,
 "nbformat_minor": 5
}
