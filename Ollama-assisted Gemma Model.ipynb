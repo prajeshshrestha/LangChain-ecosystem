{
 "cells": [
  {
   "cell_type": "code",
   "execution_count": 3,
   "id": "27f0d4b0",
   "metadata": {},
   "outputs": [],
   "source": [
    "import streamlit as st\n",
    "import os\n",
    "\n",
    "from langchain_core.prompts import ChatPromptTemplate\n",
    "from langchain_core.output_parsers import StrOutputParser\n",
    "from langchain_community.llms import Ollama"
   ]
  },
  {
   "cell_type": "code",
   "execution_count": 4,
   "id": "b88c12ca",
   "metadata": {},
   "outputs": [],
   "source": [
    "os.environ['LANGCHAIN_TRACING_V2'] = 'true'\n",
    "os.environ['LANGCHAIN_API_KEY'] = 'ls__70ac0c7d69d2495085aa3214029d50d7'"
   ]
  },
  {
   "cell_type": "code",
   "execution_count": 6,
   "id": "173c4653",
   "metadata": {},
   "outputs": [],
   "source": [
    "prompt = ChatPromptTemplate.from_messages(\n",
    "        [\n",
    "            (\"system\", \"You are a helpful assistant. Please response to the user queries.\"),\n",
    "            (\"user\", \"Question: {question}\")\n",
    "        ]\n",
    ")"
   ]
  },
  {
   "cell_type": "code",
   "execution_count": null,
   "id": "c3139a0e",
   "metadata": {},
   "outputs": [],
   "source": [
    "## streamlit framework\n",
    "\n",
    "st.title(\"Langchain Demo with Gemma Model: \")\n",
    "input_text = st.text_input(\"What do you want to know about huhh: \")"
   ]
  }
 ],
 "metadata": {
  "kernelspec": {
   "display_name": "Python 3 (ipykernel)",
   "language": "python",
   "name": "python3"
  },
  "language_info": {
   "codemirror_mode": {
    "name": "ipython",
    "version": 3
   },
   "file_extension": ".py",
   "mimetype": "text/x-python",
   "name": "python",
   "nbconvert_exporter": "python",
   "pygments_lexer": "ipython3",
   "version": "3.11.5"
  }
 },
 "nbformat": 4,
 "nbformat_minor": 5
}
