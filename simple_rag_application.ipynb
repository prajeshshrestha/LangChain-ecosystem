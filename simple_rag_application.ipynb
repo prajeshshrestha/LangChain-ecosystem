{
 "cells": [
  {
   "cell_type": "code",
   "execution_count": 1,
   "id": "2991ccd0",
   "metadata": {},
   "outputs": [],
   "source": [
    "import os\n",
    "import bs4\n",
    "\n",
    "from langchain_community.document_loaders import TextLoader, WebBaseLoader, PyPDFLoader\n",
    "from dotenv import load_dotenv\n",
    "\n",
    "load_dotenv()\n",
    "\n",
    "os.environ['LANGCHAIN_API_KEY'] = os.getenv('LANGCHAIN_API_KEY')"
   ]
  },
  {
   "cell_type": "code",
   "execution_count": 17,
   "id": "42914a18",
   "metadata": {},
   "outputs": [
    {
     "data": {
      "text/plain": [
       "'The world must be made safe for democracy. Its peace must be planted upon the tested foundations of political liberty. We have no selfish ends to serve. We desire no conquest, no dominion. We seek no indemnities for ourselves, no material compensation for the sacrifices we shall freely make. We are but one of the champions of the rights of mankind. We shall be satisfied when those rights have been made as secure as the faith and the freedom of nations can make them.\\n\\nJust because we fight without rancor and without selfish object, seeking nothing for ourselves but what we shall wish to share with all free peoples, we shall, I feel confident, conduct our operations as belligerents without passion and ourselves observe with proud punctilio the principles of right and of fair play we profess to be fighting for.\\n\\nâ€¦\\n\\nIt will be all the easier for us to conduct ourselves as belligerents in a high spirit of right and fairness because we act without animus, not in enmity toward a people or with the desire to bring any injury or disadvantage upon them, but only in armed opposition to an irresponsible government which has thrown aside all considerations of humanity and of right and is running amuck. We are, let me say again, the sincere friends of the German people, and shall desire nothing so much as the early reestablishment of intimate relations of mutual advantage between usâ€”however hard it may be for them, for the time being, to believe that this is spoken from our hearts.\\n\\nWe have borne with their present government through all these bitter months because of that friendshipâ€”exercising a patience and forbearance which would otherwise have been impossible. We shall, happily, still have an opportunity to prove that friendship in our daily attitude and actions toward the millions of men and women of German birth and native sympathy who live among us and share our life, and we shall be proud to prove it toward all who are in fact loyal to their neighbors and to the government in the hour of test. They are, most of them, as true and loyal Americans as if they had never known any other fealty or allegiance. They will be prompt to stand with us in rebuking and restraining the few who may be of a different mind and purpose. If there should be disloyalty, it will be dealt with with a firm hand of stern repression; but, if it lifts its head at all, it will lift it only here and there and without countenance except from a lawless and malignant few.\\n\\nIt is a distressing and oppressive duty, gentlemen of the Congress, which I have performed in thus addressing you. There are, it may be, many months of fiery trial and sacrifice ahead of us. It is a fearful thing to lead this great peaceful people into war, into the most terrible and disastrous of all wars, civilization itself seeming to be in the balance. But the right is more precious than peace, and we shall fight for the things which we have always carried nearest our heartsâ€”for democracy, for the right of those who submit to authority to have a voice in their own governments, for the rights and liberties of small nations, for a universal dominion of right by such a concert of free peoples as shall bring peace and safety to all nations and make the world itself at last free.\\n\\nTo such a task we can dedicate our lives and our fortunes, everything that we are and everything that we have, with the pride of those who know that the day has come when America is privileged to spend her blood and her might for the principles that gave her birth and happiness and the peace which she has treasured. God helping her, she can do no other.'"
      ]
     },
     "execution_count": 17,
     "metadata": {},
     "output_type": "execute_result"
    }
   ],
   "source": [
    "# simple text loaders \n",
    "text_loader = TextLoader(\"./test_speech.txt\")\n",
    "text_documents = text_loader.load()\n",
    "text_documents[0].page_content"
   ]
  },
  {
   "cell_type": "code",
   "execution_count": 18,
   "id": "c6698531",
   "metadata": {},
   "outputs": [],
   "source": [
    "# simple web data loader\n",
    "web_loader  = WebBaseLoader(web_paths = ('https://lilianweng.github.io/posts/2023-06-23-agent/', ),\n",
    "                            bs_kwargs = dict(parse_only = bs4.SoupStrainer(\n",
    "                                        class_ = ('post-title', 'post-content', 'post-header')\n",
    "                            )))\n",
    "text_documents = web_loader.load()\n",
    "len(text_documents[0].page_content)"
   ]
  },
  {
   "cell_type": "code",
   "execution_count": 26,
   "id": "cd785c47",
   "metadata": {},
   "outputs": [
    {
     "data": {
      "text/plain": [
       "8"
      ]
     },
     "execution_count": 26,
     "metadata": {},
     "output_type": "execute_result"
    }
   ],
   "source": [
    "# pypdf data loader and the use of text splitter\n",
    "pdf_loader = PyPDFLoader(\"./article.pdf\")\n",
    "pdf_docs = pdf_loader.load()\n",
    "len(pdf_docs)"
   ]
  },
  {
   "cell_type": "code",
   "execution_count": 29,
   "id": "c8ffc99c",
   "metadata": {},
   "outputs": [
    {
     "data": {
      "text/plain": [
       "Document(page_content='IOE Graduate Conference\\n[Placeholder for\\nPublication\\nInformation]\\nAutomatic Identification of Monuments in Images using Single-Shot\\nDetectors\\n[Author name(s) masked for blind review]\\n[Author information masked for blind review]\\n[Author contact masked for blind review]\\nAbstract\\nMonuments, embodying historical, archaeological, and cultural significance, serve as gateways to unraveling rich histories,\\nparticularly for foreigners. To aid monument identification within images, we fine-tuned the lightweight CNN model, MobileNetV2,\\nwith SSD for feature extraction and prediction of monument locations and labels. Subsequently, we trained the more resource\\nintensive YOLOv5s model. Our dataset comprised manually collected databases from Kathmandu Valley’s three Durbar Squares:\\nKathmandu, Bhaktapur, and Patan. The SSD reached a maximum mAP@0.5 score of 78.68% for test data, while the YOLOv5s\\nmodel demonstrated superior performance, with mAP@0.5 scores peaking at 92.77%.\\nKeywords', metadata={'source': './article.pdf', 'page': 0})"
      ]
     },
     "execution_count": 29,
     "metadata": {},
     "output_type": "execute_result"
    }
   ],
   "source": [
    "from langchain.text_splitter import RecursiveCharacterTextSplitter\n",
    "\n",
    "text_splitter = RecursiveCharacterTextSplitter(chunk_size = 1000, chunk_overlap = 200)\n",
    "documents = text_splitter.split_documents(pdf_docs)\n",
    "\n",
    "documents[0]"
   ]
  },
  {
   "cell_type": "code",
   "execution_count": 39,
   "id": "6ad7d37c",
   "metadata": {},
   "outputs": [],
   "source": [
    "# vector embedding and vector stores\n",
    "\n",
    "from langchain_community.embeddings import OllamaEmbeddings\n",
    "from langchain_community.vectorstores import Chroma\n",
    "ollama_emb = OllamaEmbeddings(\n",
    "    model=\"gemma:2b\",\n",
    ")\n",
    "\n",
    "db = Chroma.from_documents(documents[:10], ollama_emb)\n"
   ]
  },
  {
   "cell_type": "code",
   "execution_count": 50,
   "id": "f934630e",
   "metadata": {},
   "outputs": [],
   "source": [
    "query = 'achievement section'\n",
    "retrieved_results = db.similarity_search(query)"
   ]
  },
  {
   "cell_type": "code",
   "execution_count": 51,
   "id": "50cd640f",
   "metadata": {},
   "outputs": [
    {
     "name": "stdout",
     "output_type": "stream",
     "text": [
      "('variants (SSD300 and SSD512) but with significantly fewer\\n'\n",
      " 'parameters and lower computation cost. It was found to be 20\\n'\n",
      " 'times more efficient and 10 times smaller than the original SSD\\n'\n",
      " 'while outperforming YOLOv2 on COCO. A study done by [ 6]\\n'\n",
      " 'compared YOLO and MobileNet-SSD for single-stage object\\n'\n",
      " 'detection, finding both suitable for diverse scenarios. YOLO\\n'\n",
      " 'prioritized accuracy but faced localization challenges, while\\n'\n",
      " 'SSD excelled in speed. However, SSD with MobileNetV2 could\\n'\n",
      " 'offer comparable speed to YOLOv5s with less demanding\\n'\n",
      " 'hardware, with a slight accuracy trade-off.\\n'\n",
      " 'The mentioned research advancements in monument\\n'\n",
      " 'classification often struggle with localizing and detecting\\n'\n",
      " 'multiple monuments within a single image, necessitating the use\\n'\n",
      " 'of object detection models. In our exploration, no studies were\\n'\n",
      " 'found on identifying Nepalese monuments, and similar\\n'\n",
      " 'monuments clustered closely together. Object detection thus\\n'\n",
      " 'became crucial for accurately classifying and localizing these\\n'\n",
      " 'monuments.')\n"
     ]
    }
   ],
   "source": [
    "from pprint import pprint\n",
    "pprint(retrieved_results[0].page_content)"
   ]
  },
  {
   "cell_type": "code",
   "execution_count": 52,
   "id": "52808e21",
   "metadata": {},
   "outputs": [],
   "source": [
    "## faiss vector database\n",
    "from langchain_community.vectorstores import FAISS\n",
    "db = FAISS.from_documents(documents[:5], ollama_emb)"
   ]
  },
  {
   "cell_type": "code",
   "execution_count": null,
   "id": "97b11805",
   "metadata": {},
   "outputs": [],
   "source": []
  }
 ],
 "metadata": {
  "kernelspec": {
   "display_name": "Python 3 (ipykernel)",
   "language": "python",
   "name": "python3"
  },
  "language_info": {
   "codemirror_mode": {
    "name": "ipython",
    "version": 3
   },
   "file_extension": ".py",
   "mimetype": "text/x-python",
   "name": "python",
   "nbconvert_exporter": "python",
   "pygments_lexer": "ipython3",
   "version": "3.11.5"
  }
 },
 "nbformat": 4,
 "nbformat_minor": 5
}
